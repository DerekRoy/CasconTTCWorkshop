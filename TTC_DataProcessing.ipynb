{
 "cells": [
  {
   "cell_type": "code",
   "execution_count": 7,
   "metadata": {},
   "outputs": [
    {
     "name": "stderr",
     "output_type": "stream",
     "text": [
      "/opt/conda/envs/Python36/lib/python3.6/site-packages/ipykernel/__main__.py:5: SettingWithCopyWarning: \n",
      "A value is trying to be set on a copy of a slice from a DataFrame.\n",
      "Try using .loc[row_indexer,col_indexer] = value instead\n",
      "\n",
      "See the caveats in the documentation: http://pandas.pydata.org/pandas-docs/stable/indexing.html#indexing-view-versus-copy\n",
      "/opt/conda/envs/Python36/lib/python3.6/site-packages/ipykernel/__main__.py:6: SettingWithCopyWarning: \n",
      "A value is trying to be set on a copy of a slice from a DataFrame.\n",
      "Try using .loc[row_indexer,col_indexer] = value instead\n",
      "\n",
      "See the caveats in the documentation: http://pandas.pydata.org/pandas-docs/stable/indexing.html#indexing-view-versus-copy\n",
      "/opt/conda/envs/Python36/lib/python3.6/site-packages/ipykernel/__main__.py:7: SettingWithCopyWarning: \n",
      "A value is trying to be set on a copy of a slice from a DataFrame.\n",
      "Try using .loc[row_indexer,col_indexer] = value instead\n",
      "\n",
      "See the caveats in the documentation: http://pandas.pydata.org/pandas-docs/stable/indexing.html#indexing-view-versus-copy\n"
     ]
    }
   ],
   "source": [
    "# Drop all missing values\n",
    "ttc_2018 = df_data.dropna()\n",
    "\n",
    "# Changing the Date to separate Day and Month columns\n",
    "ttc_2018['Date'] = pd.to_datetime(ttc_2018['Date'])\n",
    "ttc_2018['Month'] = ttc_2018['Date'].dt.month\n",
    "ttc_2018['DayOfMonth'] = ttc_2018['Date'].dt.day\n",
    "\n",
    "# One hot encode day and station\n",
    "ttc_2018 = pd.concat([ttc_2018, pd.get_dummies(ttc_2018['Day'])], axis=1, sort=False)\n",
    "ttc_2018 = pd.concat([ttc_2018, pd.get_dummies(ttc_2018['Station'])], axis=1, sort=False)\n",
    "\n",
    "# Drop Vehicle number and code columns \n",
    "ttc_2018 = ttc_2018.drop(['Vehicle','Code', 'Date', 'Day','Min Gap','Station'], axis=1)#'Station'\n"
   ]
  },
  {
   "cell_type": "code",
   "execution_count": 8,
   "metadata": {},
   "outputs": [
    {
     "data": {
      "text/plain": [
       "{'file_name': 'final_output.csv',\n",
       " 'message': 'File saved to project storage.',\n",
       " 'bucket_name': 'tester-donotdelete-pr-guzhn6o5dxgrvn',\n",
       " 'asset_id': '194efab3-c671-4f0a-a085-400ce80a55a9'}"
      ]
     },
     "execution_count": 8,
     "metadata": {},
     "output_type": "execute_result"
    }
   ],
   "source": [
    "## Insert Credentials here with watson studio notebook  and change File to final_output.csv ##\n",
    "\n",
    "     \n",
    "from ibm_botocore.client import Config\n",
    "import ibm_boto3\n",
    "\n",
    "cos = ibm_boto3.client(service_name='s3',\n",
    "    ibm_api_key_id=credentials['IBM_API_KEY_ID'],\n",
    "    ibm_service_instance_id=credentials['IAM_SERVICE_ID'],\n",
    "    ibm_auth_endpoint=credentials['IBM_AUTH_ENDPOINT'],\n",
    "    config=Config(signature_version='oauth'),\n",
    "    endpoint_url=credentials['ENDPOINT'])\n",
    "\n",
    "ttc_2018.to_csv(\"final_output.csv\", encoding=\"utf-8\")\n",
    "\n",
    "with open('final_output.csv', 'rb') as data:\n",
    "    cos.upload_fileobj(data,  credentials['BUCKET'], 'final_output.csv')\n",
    "\n",
    "# Save dataframe as csv file to storage\n",
    "project.save_data(data=ttc_2018.to_csv(index=False),file_name='final_output.csv',overwrite=True)"
   ]
  },
  {
   "cell_type": "code",
   "execution_count": null,
   "metadata": {},
   "outputs": [],
   "source": []
  }
 ],
 "metadata": {
  "kernelspec": {
   "display_name": "Python 3",
   "language": "python",
   "name": "python3"
  },
  "language_info": {
   "codemirror_mode": {
    "name": "ipython",
    "version": 3
   },
   "file_extension": ".py",
   "mimetype": "text/x-python",
   "name": "python",
   "nbconvert_exporter": "python",
   "pygments_lexer": "ipython3",
   "version": "3.6.5"
  }
 },
 "nbformat": 4,
 "nbformat_minor": 1
}
